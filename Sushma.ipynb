{
 "cells": [
  {
   "cell_type": "markdown",
   "metadata": {},
   "source": [
    "# Product Monitoring + Service Now Alerting - Research and Design"
   ]
  },
  {
   "cell_type": "markdown",
   "metadata": {},
   "source": [
    "### Workflow Of Design"
   ]
  },
  {
   "cell_type": "markdown",
   "metadata": {},
   "source": [
    "__STEP 1:__\n",
    "\n",
    "_Login to Data dog usin [Link text Here](https://link-url-here.org)__  \n",
    "\n",
    "__STEP 2:__\n",
    "\n",
    "_Select the Monitors tab on the left side of the panel_\n",
    "\n",
    "__STEP 3:__\n",
    "\n",
    "_After that select New Monitor tab_\n",
    "\n",
    "__STEP 4:__\n",
    "\n",
    "_The above page will route to select monitor type, select metric as monitor type_ \n",
    "\n",
    "__STEP 5:__\n",
    "\n",
    "_Now we are in main page where we need to configure the metric_\n",
    "_This page contains five sections_ \n",
    "1. Choose a detection method\n",
    "2. Define the metric\n",
    "3. Set alert conditions\n",
    "4. Say what's happening\n",
    "5. Notify your team\n",
    "    \n",
    "#### 1. Choose detection method\n",
    "\n",
    "* In this Choose Threshold Alert as detection method which means an alert is triggered whenever metric crosses the threshold \n",
    "\n",
    "#### 2. Define the metric\n",
    "\n",
    "* This is place where we need to define the query \n",
    "* To keep as simple as possible , selected the aws.s3.5xx.errors from one of production server\n",
    "\n",
    "#### 3. Set alert conditions\n",
    "\n",
    "* In the alert conditions we need to set threshold condition which means if the above source events exceeds this much number then trigger this incident\n",
    "* We also need to check for how many times this incident needs to be monitored like for every 5 min,10min etc\n",
    "\n",
    "#### 4. Say what's happening\n",
    "\n",
    "* Pls follow the below documentation   \n",
    "[Documentation link shared by Tim](https://www.google.com)\n",
    "\n",
    "#### 5. Notify your team\n",
    "* This is the section where we need to add email ids to notify\n",
    "* To trigger SNS syntax is @ sns-\\<SNS-topic-name\\>\n",
    "* eg: @sns-sns.puas.topic.name, @sushmadevulapalli etc"
   ]
  },
  {
   "cell_type": "code",
   "execution_count": null,
   "metadata": {},
   "outputs": [],
   "source": []
  }
 ],
 "metadata": {
  "kernelspec": {
   "display_name": "Python 3",
   "language": "python",
   "name": "python3"
  },
  "language_info": {
   "codemirror_mode": {
    "name": "ipython",
    "version": 3
   },
   "file_extension": ".py",
   "mimetype": "text/x-python",
   "name": "python",
   "nbconvert_exporter": "python",
   "pygments_lexer": "ipython3",
   "version": "3.8.5"
  }
 },
 "nbformat": 4,
 "nbformat_minor": 4
}
